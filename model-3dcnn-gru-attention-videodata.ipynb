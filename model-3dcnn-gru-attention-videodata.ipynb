{
 "cells": [
  {
   "cell_type": "markdown",
   "metadata": {},
   "source": [
    "### Modeling video data with 3DCNN for frame and GRU for time\n",
    "\n",
    "Need output data from <b>01 processing videos</b>"
   ]
  },
  {
   "cell_type": "code",
   "execution_count": null,
   "metadata": {},
   "outputs": [],
   "source": [
    "import numpy as np\n",
    "import tensorflow as tf\n",
    "from tensorflow.keras.layers import Dense, GRU, Attention,Flatten, Reshape, Concatenate\n",
    "from tensorflow.keras.layers import Conv2D, Conv3D, MaxPool2D, MaxPool3D, Conv1D, MaxPool1D, BatchNormalization\n",
    "from tensorflow.keras.models import Model\n",
    "from tensorflow.keras.optimizers import SGD\n",
    "import tensorflow.keras.backend as kr\n",
    "import pickle\n",
    "from data_split import train_valid_test_split"
   ]
  },
  {
   "cell_type": "markdown",
   "metadata": {},
   "source": [
    "### Load data"
   ]
  },
  {
   "cell_type": "code",
   "execution_count": null,
   "metadata": {},
   "outputs": [],
   "source": [
    "####\n",
    "#parameters\n",
    "test_rate = 0.15\n",
    "valid_rate = 0.15\n",
    "window = 30 #frame window\n",
    "seed = 123456\n",
    "\n",
    "####\n",
    "#load focus videos\n",
    "of = open('processed_videos_160.obj', 'rb')\n",
    "data, labels = pickle.load(of)\n",
    "of.close()\n",
    "\n",
    "####\n",
    "#transform classes\n",
    "from sklearn.preprocessing import OrdinalEncoder\n",
    "label_nums = OrdinalEncoder().fit_transform(labels)\n",
    "\n",
    "####\n",
    "#split into train/valid/test\n",
    "X_train,X_valid,X_test,y_train,y_valid,y_test = train_valid_test_split(data,label_nums,test_rate,valid_rate,window,seed)"
   ]
  },
  {
   "cell_type": "markdown",
   "metadata": {},
   "source": [
    "### Model building"
   ]
  },
  {
   "cell_type": "code",
   "execution_count": null,
   "metadata": {
    "scrolled": true
   },
   "outputs": [],
   "source": [
    "####\n",
    "#parameters\n",
    "face_cnn_layers = [[8,2,4,4], [4,2,4,4], [4,2,4,4]]\n",
    "gru_size = 64\n",
    "out_dense = [64]\n",
    "dropout = False\n",
    "droprate = 0.4\n",
    "\n",
    "####\n",
    "#functional codes\n",
    "face_in = tf.keras.Input(shape=(window,160,160,1))\n",
    "x = face_in\n",
    "#Face 3dCNN blocks\n",
    "for fcnn in face_cnn_layers:\n",
    "    x = Conv3D(fcnn[0],(fcnn[1],fcnn[2],fcnn[3]), activation=\"relu\")(x)\n",
    "    x = MaxPool3D([2,3,3], padding='same')(x)\n",
    "    x = BatchNormalization()(x)\n",
    "    if dropout:\n",
    "        x = Dropout(droprate)(x)\n",
    "x = Reshape((x.shape[1],x.shape[2]*x.shape[3]*x.shape[4]))(x)\n",
    "# RNN Block\n",
    "x = GRU(gru_size, return_sequences=True)(x)\n",
    "x = BatchNormalization()(x)\n",
    "if dropout:\n",
    "    x = Dropout(droprate)(x)\n",
    "# Self-Attention Block\n",
    "x = Attention()([x, x])\n",
    "x = tf.keras.layers.GlobalMaxPooling1D()(x)\n",
    "# Output Block\n",
    "for d in out_dense:\n",
    "    x = Dense(d, activation=\"relu\")(x)\n",
    "    if dropout:\n",
    "        x = Dropout(droprate)(x)\n",
    "output   = Dense(units=1, activation='softmax')(x)\n",
    "# Build and Compile model\n",
    "model = Model(inputs=[face_in], outputs=[output])\n",
    "model.summary()"
   ]
  },
  {
   "cell_type": "markdown",
   "metadata": {},
   "source": [
    "### Training"
   ]
  },
  {
   "cell_type": "code",
   "execution_count": null,
   "metadata": {
    "scrolled": true
   },
   "outputs": [],
   "source": [
    "opt = SGD(lr=1e-4, momentum=0.9)\n",
    "model.compile(loss='categorical_crossentropy', optimizer=opt, metrics=['accuracy'])\n",
    "model.fit(X_train, y_train, validation_data=[X_valid, y_valid], batch_size=192, epochs=1000)"
   ]
  },
  {
   "cell_type": "markdown",
   "metadata": {},
   "source": [
    "### Testing"
   ]
  },
  {
   "cell_type": "code",
   "execution_count": null,
   "metadata": {},
   "outputs": [],
   "source": [
    "model.evaluate(X_test_face, y_test)"
   ]
  }
 ],
 "metadata": {
  "kernelspec": {
   "display_name": "Python 3 (ipykernel)",
   "language": "python",
   "name": "python3"
  },
  "language_info": {
   "codemirror_mode": {
    "name": "ipython",
    "version": 3
   },
   "file_extension": ".py",
   "mimetype": "text/x-python",
   "name": "python",
   "nbconvert_exporter": "python",
   "pygments_lexer": "ipython3",
   "version": "3.9.12"
  }
 },
 "nbformat": 4,
 "nbformat_minor": 2
}
