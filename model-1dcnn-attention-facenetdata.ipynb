{
 "cells": [
  {
   "cell_type": "markdown",
   "metadata": {},
   "source": [
    "## 1DCNN-attention model for facenet-embedded-data\n",
    "\n",
    "Needs output data from <b>01-7 process-data-facenet</b>"
   ]
  },
  {
   "cell_type": "code",
   "execution_count": null,
   "metadata": {},
   "outputs": [],
   "source": [
    "import numpy as np\n",
    "import tensorflow as tf\n",
    "from tensorflow.keras.layers import Dense,Attention, Flatten, Reshape, Concatenate, Dropout\n",
    "from tensorflow.keras.layers import Conv1D, MaxPool1D, BatchNormalization\n",
    "from tensorflow.keras.models import Model\n",
    "from tensorflow.keras.optimizers import SGD\n",
    "import tensorflow.keras.backend as kr\n",
    "import pickle\n",
    "from data_split import train_valid_test_split"
   ]
  },
  {
   "cell_type": "markdown",
   "metadata": {},
   "source": [
    "### Load data"
   ]
  },
  {
   "cell_type": "code",
   "execution_count": null,
   "metadata": {},
   "outputs": [],
   "source": [
    "####\n",
    "#parameters\n",
    "test_rate = 0.15\n",
    "valid_rate = 0.15\n",
    "window = 30 #frame window\n",
    "seed = 123456\n",
    "\n",
    "####\n",
    "#load focus videos\n",
    "of = open('facenetdata.obj', 'rb')\n",
    "data, labels = pickle.load(of)\n",
    "of.close()\n",
    "\n",
    "####\n",
    "#transform classes\n",
    "from sklearn.preprocessing import OrdinalEncoder\n",
    "label_nums = OrdinalEncoder().fit_transform(labels)\n",
    "\n",
    "####\n",
    "#split into train/valid/test\n",
    "X_train,X_valid,X_test,y_train,y_valid,y_test = train_valid_test_split(data,label_nums,test_rate,valid_rate,window,seed)"
   ]
  },
  {
   "cell_type": "markdown",
   "metadata": {},
   "source": [
    "### Build model"
   ]
  },
  {
   "cell_type": "code",
   "execution_count": null,
   "metadata": {},
   "outputs": [],
   "source": [
    "####\n",
    "#parameters\n",
    "cnn_layers = [[128,3], [128,3]]\n",
    "out_dense = [512]\n",
    "dropout = False\n",
    "droprate = 0.4\n",
    "\n",
    "####\n",
    "#functional codes\n",
    "face_in = tf.keras.Input(shape=(window,X_train_face.shape[-1]))\n",
    "x = face_in\n",
    "# CNN Block\n",
    "for cnn in cnn_layers:    \n",
    "    x = Conv1D(cnn[0], cnn[1], activation=\"relu\")(x)\n",
    "    x = MaxPool1D(2, padding='same')(x)\n",
    "    x = BatchNormalization()(x)\n",
    "    if dropout:\n",
    "        x = Dropout(droprate)(x)\n",
    "# Self-Attention Block\n",
    "x = Attention()([x, x])\n",
    "x = tf.keras.layers.GlobalMaxPooling1D()(x)\n",
    "# Output Block\n",
    "for d in out_dense:\n",
    "    x = Dense(d, activation=\"relu\")(x)\n",
    "    if dropout:\n",
    "        x = Dropout(droprate)(x)\n",
    "output = Dense(units=1, activation='softmax')(x)\n",
    "# Build and Compile model\n",
    "model = Model(inputs=[face_in], outputs=[output])\n",
    "model.summary()"
   ]
  },
  {
   "cell_type": "markdown",
   "metadata": {},
   "source": [
    "### Training"
   ]
  },
  {
   "cell_type": "code",
   "execution_count": null,
   "metadata": {
    "scrolled": true
   },
   "outputs": [],
   "source": [
    "opt = SGD(lr=1e-6, momentum=0.9)\n",
    "model.compile(loss='categorical_crossentropy', optimizer=opt, metrics=['accuracy'])\n",
    "model.fit(X_train_face, y_train, validation_data=[X_valid_face, y_valid], batch_size=512, epochs=1000)"
   ]
  },
  {
   "cell_type": "markdown",
   "metadata": {},
   "source": [
    "### Testing"
   ]
  },
  {
   "cell_type": "code",
   "execution_count": null,
   "metadata": {
    "scrolled": true
   },
   "outputs": [],
   "source": [
    "model.evaluate(X_test_face, y_test)"
   ]
  }
 ],
 "metadata": {
  "kernelspec": {
   "display_name": "Python 3 (ipykernel)",
   "language": "python",
   "name": "python3"
  },
  "language_info": {
   "codemirror_mode": {
    "name": "ipython",
    "version": 3
   },
   "file_extension": ".py",
   "mimetype": "text/x-python",
   "name": "python",
   "nbconvert_exporter": "python",
   "pygments_lexer": "ipython3",
   "version": "3.9.12"
  }
 },
 "nbformat": 4,
 "nbformat_minor": 2
}
