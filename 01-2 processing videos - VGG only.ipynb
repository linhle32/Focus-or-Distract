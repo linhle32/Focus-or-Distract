{
 "cells": [
  {
   "cell_type": "markdown",
   "metadata": {},
   "source": [
    "## Processing video data for VGG model\n",
    "\n",
    "VGG needs 224x224 videos so its data is processed separately"
   ]
  },
  {
   "cell_type": "code",
   "execution_count": null,
   "metadata": {},
   "outputs": [],
   "source": [
    "import dlib\n",
    "import numpy as np\n",
    "import skvideo.io\n",
    "import os\n",
    "from video_processes import *\n",
    "import pickle"
   ]
  },
  {
   "cell_type": "code",
   "execution_count": null,
   "metadata": {},
   "outputs": [],
   "source": [
    "p = \"shape_predictor_68_face_landmarks.dat\"\n",
    "detector = dlib.get_frontal_face_detector()\n",
    "predictor = dlib.shape_predictor(p)"
   ]
  },
  {
   "cell_type": "markdown",
   "metadata": {},
   "source": [
    "<h3> Focus Videos </h3>"
   ]
  },
  {
   "cell_type": "code",
   "execution_count": null,
   "metadata": {},
   "outputs": [],
   "source": [
    "####\n",
    "#parameters\n",
    "folder_list = [\"Focus\", \"Distract\"] #list of video folders. folder name will be used as labels\n",
    "resample_center_step = 12 #step to skip frames for facial center and max distances to boundary\n",
    "resample_crop_step = 2 #step to skip frames for storing after cropping\n",
    "cropped_size = 224 #size of cropped square video\n",
    "\n",
    "####\n",
    "#functional codes\n",
    "pr_videos = []\n",
    "\n",
    "for folder in folder_list:\n",
    "    #get video list\n",
    "    allfiles = os.listdir(folder+'/')\n",
    "    #list to store processed videos\n",
    "    for fn in allfiles:\n",
    "        try: #try open videos\n",
    "            v = skvideo.io.vread(folder + '/' + fn)\n",
    "            H, W = v.shape[1:-1]   #video dimension\n",
    "        except:\n",
    "            continue\n",
    "        #roughly query facial center and max distance to boundaries in videos\n",
    "        centers = []\n",
    "        mds = []\n",
    "        processed_video = []\n",
    "        for f in v[::resample_center_step]:\n",
    "            try:\n",
    "                c, md = get_face_region(f, detector, predictor, 20)\n",
    "                centers.append(c)\n",
    "                mds.append(md)\n",
    "            except:\n",
    "                continue\n",
    "        #using median center and max of max distances\n",
    "        C = np.int32(np.median(np.array(centers),axis=0))\n",
    "        M = np.int32(np.max(mds))\n",
    "        #resample and crop to square videos\n",
    "        for frame in v[::resample_crop_step]:\n",
    "            cropped_frame = squarize_frame(frame, C, M, (cropped_size,cropped_size))\n",
    "            processed_video.append(cropped_frame)\n",
    "        processed_video = np.array(processed_video, dtype=np.uint8)\n",
    "        #store processed video\n",
    "        pr_videos.append(processed_video)\n",
    "        #store label\n",
    "        labels.append(folder)"
   ]
  },
  {
   "cell_type": "markdown",
   "metadata": {},
   "source": [
    "### Save data"
   ]
  },
  {
   "cell_type": "code",
   "execution_count": null,
   "metadata": {},
   "outputs": [],
   "source": [
    "of = open('processed_videos_224.obj', 'wb')\n",
    "pickle.dump([read_files, pr_videos], of)\n",
    "of.close()"
   ]
  }
 ],
 "metadata": {
  "kernelspec": {
   "display_name": "Python 3 (ipykernel)",
   "language": "python",
   "name": "python3"
  },
  "language_info": {
   "codemirror_mode": {
    "name": "ipython",
    "version": 3
   },
   "file_extension": ".py",
   "mimetype": "text/x-python",
   "name": "python",
   "nbconvert_exporter": "python",
   "pygments_lexer": "ipython3",
   "version": "3.9.12"
  }
 },
 "nbformat": 4,
 "nbformat_minor": 2
}
