{
 "cells": [
  {
   "cell_type": "markdown",
   "metadata": {},
   "source": [
    "## Modeling video data with 2DCNN for frame and biGRU for time\n",
    "\n",
    "Need output data from <b>01 processing videos</b>"
   ]
  },
  {
   "cell_type": "code",
   "execution_count": null,
   "metadata": {},
   "outputs": [],
   "source": [
    "import numpy as np\n",
    "import tensorflow as tf\n",
    "from tensorflow.keras.layers import Dense, GRU, Attention, Reshape, Concatenate\n",
    "from tensorflow.keras.layers import Conv2D, MaxPool2D, BatchNormalization\n",
    "from tensorflow.keras.models import Model\n",
    "from tensorflow.keras.optimizers import SGD\n",
    "import tensorflow.keras.backend as kr\n",
    "import pickle\n",
    "from data_split import train_valid_test_split"
   ]
  },
  {
   "cell_type": "markdown",
   "metadata": {},
   "source": [
    "### Load videos"
   ]
  },
  {
   "cell_type": "code",
   "execution_count": null,
   "metadata": {},
   "outputs": [],
   "source": [
    "####\n",
    "#parameters\n",
    "test_rate = 0.15\n",
    "valid_rate = 0.15\n",
    "window = 30 #frame window\n",
    "seed = 123456\n",
    "\n",
    "####\n",
    "#load focus videos\n",
    "of = open('processed_videos_160.obj', 'rb')\n",
    "data, labels = pickle.load(of)\n",
    "of.close()\n",
    "\n",
    "####\n",
    "#transform classes\n",
    "from sklearn.preprocessing import OrdinalEncoder\n",
    "label_nums = OrdinalEncoder().fit_transform(labels)\n",
    "\n",
    "####\n",
    "#split into train/valid/test\n",
    "X_train,X_valid,X_test,y_train,y_valid,y_test = train_valid_test_split(data,label_nums,test_rate,valid_rate,window,seed)"
   ]
  },
  {
   "cell_type": "markdown",
   "metadata": {},
   "source": [
    "### Model building"
   ]
  },
  {
   "cell_type": "code",
   "execution_count": null,
   "metadata": {
    "scrolled": true
   },
   "outputs": [],
   "source": [
    "####\n",
    "#parameters\n",
    "face_cnn_layers = [[8,4,4], [8,4,4],[8,4,4],[4,4,4]]\n",
    "gru_size = 64\n",
    "out_dense = [64]\n",
    "dropout = False\n",
    "droprate = 0.4\n",
    "\n",
    "####\n",
    "#functional codes\n",
    "face_in = tf.keras.Input(shape=(window,160,160,1))\n",
    "x1 = face_in\n",
    "#Face 2dCNN blocks\n",
    "x1 = kr.reshape(x1, (-1,x1.shape[2],x1.shape[3],x1.shape[4]))\n",
    "# facial cnn\n",
    "for fcnn in face_cnn_layers:\n",
    "    x1 = Conv2D(fcnn[0],(fcnn[1],fcnn[2]), activation=\"relu\")(x1)\n",
    "    x1 = MaxPool2D([2,2], padding='same')(x1)\n",
    "    x1 = BatchNormalization()(x1)\n",
    "    if dropout:\n",
    "        x = Dropout(droprate)(x)\n",
    "x1 = kr.reshape(x1, (-1,window,x1.shape[1]*x1.shape[2]*x1.shape[3]))\n",
    "x1 = Dense(x1.shape[2]//4, activation='relu')(x1)   \n",
    "# forward direction\n",
    "x2 = x1\n",
    "x2 = GRU(gru_size, return_sequences=True)(x2)\n",
    "x2 = BatchNormalization()(x2)\n",
    "# backward direction\n",
    "x3 = tf.reverse(x1, axis=[1])\n",
    "x3 = GRU(gru_size, return_sequences=True)(x3)\n",
    "x3 = BatchNormalization()(x3)\n",
    "# Self-Attention Block\n",
    "x = tf.concat([x2,x3], axis=-1)\n",
    "if dropout:\n",
    "    x = Dropout(droprate)(x)\n",
    "x = Attention()([x, x])\n",
    "x = tf.keras.layers.GlobalMaxPooling1D()(x)\n",
    "# Output Block\n",
    "for d in out_dense:\n",
    "    x = Dense(d, activation=\"relu\")(x)\n",
    "    if dropout:\n",
    "        x = Dropout(droprate)(x)\n",
    "output = Dense(units=1, activation='softmax')(x)\n",
    "# Build and Compile model\n",
    "model = Model(inputs=[face_in], outputs=[output])\n",
    "model.summary()"
   ]
  },
  {
   "cell_type": "markdown",
   "metadata": {},
   "source": [
    "### Training"
   ]
  },
  {
   "cell_type": "code",
   "execution_count": null,
   "metadata": {
    "scrolled": true
   },
   "outputs": [],
   "source": [
    "opt = SGD(lr=1e-3, momentum=0.9)\n",
    "model.compile(loss='categorical_crossentropy', optimizer=opt, metrics=['accuracy'])\n",
    "model.fit(X_train_face, y_train, validation_data=[X_valid_face, y_valid], batch_size=256, epochs=1000)"
   ]
  },
  {
   "cell_type": "markdown",
   "metadata": {},
   "source": [
    "### Testing"
   ]
  },
  {
   "cell_type": "code",
   "execution_count": null,
   "metadata": {},
   "outputs": [],
   "source": [
    "model.evaluate(X_test_face, y_test)"
   ]
  }
 ],
 "metadata": {
  "kernelspec": {
   "display_name": "Python 3 (ipykernel)",
   "language": "python",
   "name": "python3"
  },
  "language_info": {
   "codemirror_mode": {
    "name": "ipython",
    "version": 3
   },
   "file_extension": ".py",
   "mimetype": "text/x-python",
   "name": "python",
   "nbconvert_exporter": "python",
   "pygments_lexer": "ipython3",
   "version": "3.9.12"
  }
 },
 "nbformat": 4,
 "nbformat_minor": 2
}
