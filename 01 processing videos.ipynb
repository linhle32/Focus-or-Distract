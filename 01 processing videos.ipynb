{
 "cells": [
  {
   "cell_type": "markdown",
   "metadata": {},
   "source": [
    "## Processing video data for FaceNet and Landmark model\n",
    "\n",
    "Both FaceNet and Landmark model use 160x160 videos so their data can be processed together"
   ]
  },
  {
   "cell_type": "code",
   "execution_count": null,
   "metadata": {},
   "outputs": [],
   "source": [
    "import dlib\n",
    "import numpy as np\n",
    "import skvideo.io\n",
    "import os\n",
    "from video_processes import *\n",
    "import pickle"
   ]
  },
  {
   "cell_type": "markdown",
   "metadata": {},
   "source": [
    "### Load dlib facial detector and predictor"
   ]
  },
  {
   "cell_type": "code",
   "execution_count": null,
   "metadata": {},
   "outputs": [],
   "source": [
    "p = \"shape_predictor_68_face_landmarks.dat\"\n",
    "detector = dlib.get_frontal_face_detector()\n",
    "predictor = dlib.shape_predictor(p)"
   ]
  },
  {
   "cell_type": "markdown",
   "metadata": {},
   "source": [
    "<h3> Processing Videos </h3>\n",
    "\n",
    "Videos should be in folders by classes. Result includes:\n",
    "1. a list of processed videos (usable for FaceNet due to the 160x160 size)\n",
    "2. facial landmark and eye data for each frame\n",
    "3. label data"
   ]
  },
  {
   "cell_type": "code",
   "execution_count": null,
   "metadata": {},
   "outputs": [],
   "source": [
    "####\n",
    "#parameters\n",
    "folder_list = [\"Focus\", \"Distract\"] #list of video folders. folder name will be used as labels\n",
    "resample_center_step = 12 #step to skip frames for facial center and max distances to boundary\n",
    "resample_crop_step = 2 #step to skip frames for storing after cropping\n",
    "cropped_size = 160 #size of cropped square video\n",
    "\n",
    "####\n",
    "#functional codes\n",
    "pr_videos = []\n",
    "landmark_and_eye = []\n",
    "labels = []\n",
    "\n",
    "for folder in folder_list:\n",
    "    #get video list\n",
    "    allfiles = os.listdir(folder+'/')\n",
    "    #list to store processed videos\n",
    "    for fn in allfiles:\n",
    "        try: #try open videos\n",
    "            v = skvideo.io.vread(folder + '/' + fn)\n",
    "            H, W = v.shape[1:-1]   #video dimension\n",
    "        except:\n",
    "            continue\n",
    "        #roughly query facial center and max distance to boundaries in videos\n",
    "        centers = []\n",
    "        mds = []\n",
    "        processed_video = []\n",
    "        for f in v[::resample_center_step]:\n",
    "            try:\n",
    "                c, md = get_face_region(f, detector, predictor, 20)\n",
    "                centers.append(c)\n",
    "                mds.append(md)\n",
    "            except:\n",
    "                continue\n",
    "        #using median center and max of max distances\n",
    "        C = np.int32(np.median(np.array(centers),axis=0))\n",
    "        M = np.int32(np.max(mds))\n",
    "        #resample and crop to square videos\n",
    "        #also extract facial landmarks\n",
    "        video_landmarks = []\n",
    "        for frame in v[::resample_crop_step]:\n",
    "            cropped_frame = squarize_frame(frame, C, M, (cropped_size,cropped_size))\n",
    "            processed_video.append(cropped_frame)\n",
    "            #extract landmark of current frame\n",
    "            rect = detector(cropped_frame, 0) [0]\n",
    "            shape = predictor(gray, rect)\n",
    "            try:\n",
    "                shape_np = shape_to_np(shape)\n",
    "            except:\n",
    "                shape_np = np.zeros(shape_np.shape)\n",
    "            video_landmarks.append(shape_np)\n",
    "        processed_video = np.array(processed_video, dtype=np.uint8)\n",
    "        #extract eye data of current video\n",
    "        video_eye_info = extract_eye_info(processed_video)\n",
    "        #store processed video\n",
    "        pr_videos.append(processed_video)\n",
    "        #store landmarks and eye data\n",
    "        landmark_and_eye.append(np.hstack([video_landmarks, video_eye_info]))\n",
    "        #store label\n",
    "        labels.append(folder)"
   ]
  },
  {
   "cell_type": "markdown",
   "metadata": {},
   "source": [
    "### Save video data and labels"
   ]
  },
  {
   "cell_type": "code",
   "execution_count": null,
   "metadata": {},
   "outputs": [],
   "source": [
    "of = open('processed_videos_160.obj', 'wb')\n",
    "pickle.dump([pr_videos, labels], of)\n",
    "of.close()"
   ]
  },
  {
   "cell_type": "markdown",
   "metadata": {},
   "source": [
    "### Save landmarks and eye data and labels"
   ]
  },
  {
   "cell_type": "code",
   "execution_count": null,
   "metadata": {},
   "outputs": [],
   "source": [
    "of = open('landmark_eye_data.obj', 'wb')\n",
    "pickle.dump([landmark_and_eye, labels], of)\n",
    "of.close()"
   ]
  }
 ],
 "metadata": {
  "kernelspec": {
   "display_name": "Python 3 (ipykernel)",
   "language": "python",
   "name": "python3"
  },
  "language_info": {
   "codemirror_mode": {
    "name": "ipython",
    "version": 3
   },
   "file_extension": ".py",
   "mimetype": "text/x-python",
   "name": "python",
   "nbconvert_exporter": "python",
   "pygments_lexer": "ipython3",
   "version": "3.9.12"
  }
 },
 "nbformat": 4,
 "nbformat_minor": 2
}
