{
 "cells": [
  {
   "cell_type": "markdown",
   "metadata": {},
   "source": [
    "## Modeling video data with 2DCNN for frame and 1DCNN for time\n",
    "\n",
    "Need output data from <b>01 processing videos</b>"
   ]
  },
  {
   "cell_type": "code",
   "execution_count": null,
   "metadata": {},
   "outputs": [],
   "source": [
    "import numpy as np\n",
    "import tensorflow as tf\n",
    "from tensorflow.keras.layers import Dense, Attention, Flatten, Reshape, Concatenate, Conv2D, MaxPool2D, Conv1D, MaxPool1D, BatchNormalization\n",
    "from tensorflow.keras.regularizers import *\n",
    "from tensorflow import math\n",
    "from tensorflow.keras.models import Model\n",
    "from tensorflow.keras.optimizers import SGD\n",
    "import tensorflow.keras.backend as kr\n",
    "import pickle\n",
    "from data_split import train_valid_test_split"
   ]
  },
  {
   "cell_type": "markdown",
   "metadata": {},
   "source": [
    "### Load videos"
   ]
  },
  {
   "cell_type": "code",
   "execution_count": null,
   "metadata": {},
   "outputs": [],
   "source": [
    "####\n",
    "#parameters\n",
    "test_rate = 0.15\n",
    "valid_rate = 0.15\n",
    "window = 30 #frame window\n",
    "seed = 123456\n",
    "\n",
    "####\n",
    "#load focus videos\n",
    "of = open('processed_videos_160.obj', 'rb')\n",
    "data, labels = pickle.load(of)\n",
    "of.close()\n",
    "\n",
    "####\n",
    "#transform classes\n",
    "from sklearn.preprocessing import OrdinalEncoder\n",
    "label_nums = OrdinalEncoder().fit_transform(labels)\n",
    "\n",
    "####\n",
    "#split into train/valid/test\n",
    "X_train,X_valid,X_test,y_train,y_valid,y_test = train_valid_test_split(data,label_nums,test_rate,valid_rate,window,seed)"
   ]
  },
  {
   "cell_type": "markdown",
   "metadata": {},
   "source": [
    "<h3>Model building</h3>"
   ]
  },
  {
   "cell_type": "code",
   "execution_count": null,
   "metadata": {
    "scrolled": true
   },
   "outputs": [],
   "source": [
    "####\n",
    "#parameters\n",
    "face_cnn_layers = [[8,4,4], [8,4,4],[8,4,4],[4,4,4]] #2D CNN to model facial data\n",
    "cnn_layers = [[128,3], [64,3]] #1D CNN to model 2D CNN outputs\n",
    "out_dense = [64] #output dense hidden size\n",
    "dropout = False\n",
    "droprate = 0.4\n",
    "\n",
    "####\n",
    "#functional codes\n",
    "face_in = tf.keras.Input(shape=(window,160,160,1))\n",
    "x = face_in\n",
    "#Face 2dCNN blocks\n",
    "x = kr.reshape(x, (-1,x1.shape[2],x1.shape[3],x1.shape[4]))\n",
    "for fcnn in face_cnn_layers:\n",
    "    x = Conv2D(fcnn[0],(fcnn[1],fcnn[2]), activation=\"relu\")(x)\n",
    "    x = MaxPool2D([2,2], padding='same')(x)\n",
    "    x = BatchNormalization()(x)\n",
    "    if dropout:\n",
    "        x = Dropout(droprate)(x)\n",
    "x = kr.reshape(x, (-1,window,x.shape[1]*x1.shape[2]*x1.shape[3]))\n",
    "x = Dense(x.shape[2]//4, activation='relu')(x)\n",
    "# 1D-CNN Block\n",
    "for cnn in cnn_layers:    \n",
    "    x = Conv1D(cnn[0], cnn[1], activation=\"relu\")(x)\n",
    "    x = MaxPool1D(2, padding='same')(x)\n",
    "    x = BatchNormalization()(x)\n",
    "    if dropout:\n",
    "        x = Dropout(droprate)(x)\n",
    "# Self-Attention Block\n",
    "x = Attention()([x, x])\n",
    "x = tf.keras.layers.GlobalMaxPooling1D()(x)\n",
    "# Output Block\n",
    "for d in out_dense:\n",
    "    x = Dense(d, activation=\"relu\")(x)\n",
    "    if dropout:\n",
    "        x = Dropout(droprate)(x)\n",
    "output = Dense(units=1, activation='softmax')(x)\n",
    "# Build and Compile model\n",
    "model = Model(inputs=[face_in], outputs=[output])\n",
    "model.summary()"
   ]
  },
  {
   "cell_type": "markdown",
   "metadata": {},
   "source": [
    "### Training"
   ]
  },
  {
   "cell_type": "code",
   "execution_count": null,
   "metadata": {
    "scrolled": true
   },
   "outputs": [],
   "source": [
    "opt = SGD(lr=1e-4, momentum=0.9)\n",
    "model.compile(loss='categorical_crossentropy', optimizer=opt, metrics=['accuracy'])\n",
    "model.fit(X_train, y_train, validation_data=[X_valid, y_valid], batch_size=256, epochs=1000)"
   ]
  },
  {
   "cell_type": "markdown",
   "metadata": {},
   "source": [
    "### Testing"
   ]
  },
  {
   "cell_type": "code",
   "execution_count": null,
   "metadata": {},
   "outputs": [],
   "source": [
    "model.evaluate(X_test, y_test)"
   ]
  }
 ],
 "metadata": {
  "kernelspec": {
   "display_name": "Python 3 (ipykernel)",
   "language": "python",
   "name": "python3"
  },
  "language_info": {
   "codemirror_mode": {
    "name": "ipython",
    "version": 3
   },
   "file_extension": ".py",
   "mimetype": "text/x-python",
   "name": "python",
   "nbconvert_exporter": "python",
   "pygments_lexer": "ipython3",
   "version": "3.9.12"
  }
 },
 "nbformat": 4,
 "nbformat_minor": 2
}
